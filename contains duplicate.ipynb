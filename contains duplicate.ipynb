{
 "cells": [
  {
   "cell_type": "markdown",
   "id": "55ba3e10",
   "metadata": {},
   "source": [
    "Numara dizisinde eğer herhangi bir değer iki kere tekrar etmişse true, eğer etmemişse false olarak çevir."
   ]
  },
  {
   "cell_type": "code",
   "execution_count": 1,
   "id": "bb570f9a",
   "metadata": {},
   "outputs": [],
   "source": [
    "import numpy as np"
   ]
  },
  {
   "cell_type": "code",
   "execution_count": 2,
   "id": "dd6b6d39",
   "metadata": {},
   "outputs": [],
   "source": [
    "dizi = np.array([1,2,3,4,4,5])"
   ]
  },
  {
   "cell_type": "code",
   "execution_count": 3,
   "id": "75a291ee",
   "metadata": {},
   "outputs": [],
   "source": [
    "def solution():\n",
    "    hashset = set()\n",
    "    for int in dizi:\n",
    "        if int in hashset:\n",
    "            return True\n",
    "        else:\n",
    "            hashset.add(int)\n",
    "            return False\n",
    "    \n"
   ]
  },
  {
   "cell_type": "code",
   "execution_count": 4,
   "id": "3481f114",
   "metadata": {},
   "outputs": [
    {
     "data": {
      "text/plain": [
       "False"
      ]
     },
     "execution_count": 4,
     "metadata": {},
     "output_type": "execute_result"
    }
   ],
   "source": [
    "solution()"
   ]
  },
  {
   "cell_type": "code",
   "execution_count": null,
   "id": "26331195",
   "metadata": {},
   "outputs": [],
   "source": []
  },
  {
   "cell_type": "code",
   "execution_count": null,
   "id": "1b9a3fbd",
   "metadata": {},
   "outputs": [],
   "source": []
  }
 ],
 "metadata": {
  "kernelspec": {
   "display_name": "Python 3",
   "language": "python",
   "name": "python3"
  },
  "language_info": {
   "codemirror_mode": {
    "name": "ipython",
    "version": 3
   },
   "file_extension": ".py",
   "mimetype": "text/x-python",
   "name": "python",
   "nbconvert_exporter": "python",
   "pygments_lexer": "ipython3",
   "version": "3.8.8"
  }
 },
 "nbformat": 4,
 "nbformat_minor": 5
}
